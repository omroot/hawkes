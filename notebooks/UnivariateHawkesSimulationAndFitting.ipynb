{
 "cells": [
  {
   "cell_type": "code",
   "execution_count": null,
   "id": "2476596e-305f-4245-809b-46d98c6dcd7e",
   "metadata": {},
   "outputs": [],
   "source": []
  },
  {
   "cell_type": "code",
   "execution_count": 36,
   "id": "6ee2da98-8af6-4354-a563-f6f10362c41c",
   "metadata": {},
   "outputs": [],
   "source": [
    "from typing import Tuple"
   ]
  },
  {
   "cell_type": "code",
   "execution_count": 1,
   "id": "2c561eaf-a9ee-4048-ad45-f06d0f3210e0",
   "metadata": {},
   "outputs": [],
   "source": [
    "import numpy as np\n",
    "import pandas as pd\n",
    "import matplotlib.pyplot as plt"
   ]
  },
  {
   "cell_type": "code",
   "execution_count": 2,
   "id": "6210a782-e995-43b4-ab2b-ffc289625c78",
   "metadata": {},
   "outputs": [],
   "source": [
    "from tick.hawkes import SimuHawkes, HawkesKernelSumExp, HawkesKernelExp\n",
    "from tick.hawkes import HawkesExpKern"
   ]
  },
  {
   "cell_type": "code",
   "execution_count": null,
   "id": "36b03cb0-f855-4245-ab83-7156dbbcdb33",
   "metadata": {},
   "outputs": [],
   "source": []
  },
  {
   "cell_type": "markdown",
   "id": "3e62e33f-6e53-49ac-8893-7b40da5582eb",
   "metadata": {},
   "source": [
    "## Simulation"
   ]
  },
  {
   "cell_type": "code",
   "execution_count": 3,
   "id": "b8490702-2121-4c56-ac1c-b9ae21eb8759",
   "metadata": {},
   "outputs": [],
   "source": []
  },
  {
   "cell_type": "code",
   "execution_count": 4,
   "id": "598ddb97-388a-4cc7-9c9f-ee0fac1366a5",
   "metadata": {},
   "outputs": [],
   "source": [
    "SEED = 1398\n",
    "total_run_time = 100\n",
    "time_step = 0.01\n",
    "true_intensity = 0.5 # alpha\n",
    "true_decay = 3 # beta\n",
    "true_baseline = 1 # mu\n",
    "number_of_nodes = 1  # D\n",
    "hawkes = SimuHawkes(n_nodes=number_of_nodes, \n",
    "                    end_time=total_run_time, \n",
    "                    verbose=False, \n",
    "                    seed=SEED)\n",
    "kernel = HawkesKernelExp(intensity=true_intensity, \n",
    "                            decay= true_decay)\n",
    "hawkes.set_kernel(0, 0, kernel)\n",
    "hawkes.set_baseline(0, true_baseline)\n",
    "hawkes.track_intensity(time_step)\n",
    "hawkes.simulate()\n",
    "timestamps = hawkes.timestamps\n",
    "intensity = hawkes.tracked_intensity\n",
    "intensity_times = hawkes.intensity_tracked_times"
   ]
  },
  {
   "cell_type": "code",
   "execution_count": null,
   "id": "8e98b4d1-366d-42cb-868a-ab519f0686ab",
   "metadata": {},
   "outputs": [],
   "source": []
  },
  {
   "cell_type": "code",
   "execution_count": null,
   "id": "23d1c912-97aa-4eb6-8329-e8ab7d3143db",
   "metadata": {},
   "outputs": [],
   "source": [
    "\n",
    "\n"
   ]
  },
  {
   "cell_type": "code",
   "execution_count": null,
   "id": "68c6eabc-eaba-462b-a362-7fcd99fa45aa",
   "metadata": {},
   "outputs": [],
   "source": []
  },
  {
   "cell_type": "markdown",
   "id": "4580f527-bde7-46d7-9ec4-d61bc3843bf8",
   "metadata": {},
   "source": [
    "## Fitting"
   ]
  },
  {
   "cell_type": "code",
   "execution_count": 5,
   "id": "bdee1683-8090-491d-b5fd-9aab60f662ea",
   "metadata": {},
   "outputs": [],
   "source": [
    "decay_candidates = np.linspace(0, 30, 100)"
   ]
  },
  {
   "cell_type": "code",
   "execution_count": 6,
   "id": "a2dee883-20af-4810-9c14-c0a40f1d5723",
   "metadata": {},
   "outputs": [
    {
     "data": {
      "text/plain": [
       "array([ 0.        ,  0.3030303 ,  0.60606061,  0.90909091,  1.21212121,\n",
       "        1.51515152,  1.81818182,  2.12121212,  2.42424242,  2.72727273,\n",
       "        3.03030303,  3.33333333,  3.63636364,  3.93939394,  4.24242424,\n",
       "        4.54545455,  4.84848485,  5.15151515,  5.45454545,  5.75757576,\n",
       "        6.06060606,  6.36363636,  6.66666667,  6.96969697,  7.27272727,\n",
       "        7.57575758,  7.87878788,  8.18181818,  8.48484848,  8.78787879,\n",
       "        9.09090909,  9.39393939,  9.6969697 , 10.        , 10.3030303 ,\n",
       "       10.60606061, 10.90909091, 11.21212121, 11.51515152, 11.81818182,\n",
       "       12.12121212, 12.42424242, 12.72727273, 13.03030303, 13.33333333,\n",
       "       13.63636364, 13.93939394, 14.24242424, 14.54545455, 14.84848485,\n",
       "       15.15151515, 15.45454545, 15.75757576, 16.06060606, 16.36363636,\n",
       "       16.66666667, 16.96969697, 17.27272727, 17.57575758, 17.87878788,\n",
       "       18.18181818, 18.48484848, 18.78787879, 19.09090909, 19.39393939,\n",
       "       19.6969697 , 20.        , 20.3030303 , 20.60606061, 20.90909091,\n",
       "       21.21212121, 21.51515152, 21.81818182, 22.12121212, 22.42424242,\n",
       "       22.72727273, 23.03030303, 23.33333333, 23.63636364, 23.93939394,\n",
       "       24.24242424, 24.54545455, 24.84848485, 25.15151515, 25.45454545,\n",
       "       25.75757576, 26.06060606, 26.36363636, 26.66666667, 26.96969697,\n",
       "       27.27272727, 27.57575758, 27.87878788, 28.18181818, 28.48484848,\n",
       "       28.78787879, 29.09090909, 29.39393939, 29.6969697 , 30.        ])"
      ]
     },
     "execution_count": 6,
     "metadata": {},
     "output_type": "execute_result"
    }
   ],
   "source": [
    "decay_candidates"
   ]
  },
  {
   "cell_type": "code",
   "execution_count": 7,
   "id": "39093dc7-aa40-42c0-abac-675b06d9492e",
   "metadata": {},
   "outputs": [
    {
     "name": "stdout",
     "output_type": "stream",
     "text": [
      "Step equals 0... at 0\n"
     ]
    }
   ],
   "source": [
    "scores = []\n",
    "hawkes_models = {}\n",
    "for i, decay in enumerate(decay_candidates):\n",
    "    hawkes_learner = HawkesExpKern(decay, \n",
    "                                   verbose=False, \n",
    "                                   max_iter=10000,\n",
    "                                   tol=1e-10)\n",
    "    hawkes_learner.fit(timestamps)\n",
    "    hawkes_models[i] = hawkes_learner\n",
    "    scores.append(hawkes_learner.score() )\n",
    "    \n",
    "    \n"
   ]
  },
  {
   "cell_type": "code",
   "execution_count": 8,
   "id": "2e3de873-9587-4d36-b9ea-319846933d6b",
   "metadata": {},
   "outputs": [],
   "source": [
    "decay_scores_df = pd.DataFrame({'score': scores, \n",
    "                               'decay':decay_candidates}).sort_values(by = 'score', ascending = False)"
   ]
  },
  {
   "cell_type": "code",
   "execution_count": 9,
   "id": "df902c79-ade5-42cc-b615-2cebdaf6c696",
   "metadata": {},
   "outputs": [],
   "source": [
    "best_hawkes_model_index = decay_scores_df.index[0]\n",
    "best_hawkes_model = hawkes_models[best_hawkes_model_index]\n",
    "beta = best_hawkes_model.decays\n",
    "alpha = best_hawkes_model.adjacency[0][0]\n",
    "baseline = best_hawkes_model.baseline[0]"
   ]
  },
  {
   "cell_type": "code",
   "execution_count": 10,
   "id": "b2ca10fe-ce5c-4e09-91e9-f85fd2ba6741",
   "metadata": {},
   "outputs": [],
   "source": []
  },
  {
   "cell_type": "code",
   "execution_count": 11,
   "id": "bf580fba-336b-49d3-aeb4-ab53c191df47",
   "metadata": {},
   "outputs": [],
   "source": []
  },
  {
   "cell_type": "code",
   "execution_count": 12,
   "id": "902a9e9a-8b36-4897-836b-c71ce6aff7bd",
   "metadata": {},
   "outputs": [],
   "source": []
  },
  {
   "cell_type": "code",
   "execution_count": 13,
   "id": "936549e1-c9b5-4510-96fc-b3c894a5f4c3",
   "metadata": {},
   "outputs": [],
   "source": []
  },
  {
   "cell_type": "code",
   "execution_count": null,
   "id": "0b447b6e-66d0-4c59-8e4c-1c76d398a96d",
   "metadata": {},
   "outputs": [],
   "source": []
  },
  {
   "cell_type": "code",
   "execution_count": 14,
   "id": "3732a0aa-9a74-41e6-a552-170ae1ee1d89",
   "metadata": {},
   "outputs": [],
   "source": [
    "learned_parameters  = baseline , alpha, beta"
   ]
  },
  {
   "cell_type": "code",
   "execution_count": 15,
   "id": "5d97685a-276a-4837-a0e1-b3dbe1557c11",
   "metadata": {},
   "outputs": [
    {
     "data": {
      "text/plain": [
       "(1.0766456880520174, 0.46659430920350237, 3.3333333333333335)"
      ]
     },
     "execution_count": 15,
     "metadata": {},
     "output_type": "execute_result"
    }
   ],
   "source": [
    "learned_parameters"
   ]
  },
  {
   "cell_type": "code",
   "execution_count": 16,
   "id": "77ea5d9b-a5bb-4a5f-9cfc-ba152f9123dc",
   "metadata": {},
   "outputs": [
    {
     "data": {
      "text/plain": [
       "(1, 0.5, 3)"
      ]
     },
     "execution_count": 16,
     "metadata": {},
     "output_type": "execute_result"
    }
   ],
   "source": [
    "true_baseline, true_intensity, true_decay \n"
   ]
  },
  {
   "cell_type": "code",
   "execution_count": 17,
   "id": "23ae1e38-201b-4330-b103-ba399973c4ed",
   "metadata": {},
   "outputs": [],
   "source": [
    "def conditional_intensity(params, events, t):\n",
    "    baseline, alpha, beta = params\n",
    "    intensity = baseline + np.sum(alpha*beta * np.exp(-beta * (t - events)))\n",
    "    return intensity\n",
    "# Predict the next arrival time\n",
    "# current_time = events[-1]\n",
    "# predicted_intensity = conditional_intensity(learned_params, events, current_time)\n",
    "# next_arrival_time = current_time + np.random.exponential(1 / predicted_intensity)\n",
    "\n",
    "\n"
   ]
  },
  {
   "cell_type": "code",
   "execution_count": 18,
   "id": "0527cc91-6fd1-426c-8ad6-35e7eeffa330",
   "metadata": {},
   "outputs": [
    {
     "data": {
      "text/plain": [
       "97.74902707032999"
      ]
     },
     "execution_count": 18,
     "metadata": {},
     "output_type": "execute_result"
    }
   ],
   "source": [
    "timestamps[0][-2]"
   ]
  },
  {
   "cell_type": "code",
   "execution_count": 19,
   "id": "2454f7b5-f375-459f-a6e9-e2352b1cc0bc",
   "metadata": {},
   "outputs": [],
   "source": [
    "predicted_intensity=conditional_intensity(learned_parameters, timestamps[0], timestamps[0][-1])"
   ]
  },
  {
   "cell_type": "code",
   "execution_count": 20,
   "id": "1e72f5d3-8870-49bc-a1fe-1f4cc05cd6ee",
   "metadata": {},
   "outputs": [],
   "source": [
    "next_arrival_time = timestamps[0][-1] + np.random.exponential(1 / predicted_intensity)"
   ]
  },
  {
   "cell_type": "code",
   "execution_count": 21,
   "id": "e9babab7-f1f9-43ce-a20b-c3a20bc252de",
   "metadata": {},
   "outputs": [
    {
     "data": {
      "text/plain": [
       "100.10642847814678"
      ]
     },
     "execution_count": 21,
     "metadata": {},
     "output_type": "execute_result"
    }
   ],
   "source": [
    "next_arrival_time"
   ]
  },
  {
   "cell_type": "code",
   "execution_count": 22,
   "id": "a8be1597-2a44-422d-922b-f1fcf4dc845a",
   "metadata": {},
   "outputs": [
    {
     "data": {
      "text/plain": [
       "[array([1.        , 1.        , 1.        , ..., 2.10496554, 2.07230887,\n",
       "        2.04061736])]"
      ]
     },
     "execution_count": 22,
     "metadata": {},
     "output_type": "execute_result"
    }
   ],
   "source": [
    "intensity"
   ]
  },
  {
   "cell_type": "code",
   "execution_count": 23,
   "id": "f6b5bb39-7540-4a7a-83b5-95d290e6ed58",
   "metadata": {},
   "outputs": [],
   "source": [
    "tracked_intensity, intensity_tracked_times = best_hawkes_model.estimated_intensity(timestamps, intensity_track_step=1)"
   ]
  },
  {
   "cell_type": "code",
   "execution_count": 24,
   "id": "15fbd43b-c5a5-472d-a00b-c7a17cdd62a7",
   "metadata": {},
   "outputs": [
    {
     "data": {
      "text/plain": [
       "array([ 0.26171969,  0.33306504,  1.        ,  1.13396494,  2.        ,\n",
       "        3.        ,  3.36246705,  3.39104133,  4.        ,  4.20442785,\n",
       "        5.        ,  6.        ,  6.56431294,  7.        ,  8.        ,\n",
       "        8.22239123,  8.47910229,  8.5608451 ,  8.80829512,  9.        ,\n",
       "        9.51074979, 10.        , 11.        , 12.        , 12.91835534,\n",
       "       12.9793872 , 13.        , 13.1372456 , 13.77328057, 14.        ,\n",
       "       14.10622039, 14.29056757, 14.30602899, 14.42221321, 14.42668694,\n",
       "       14.59880966, 14.71865985, 15.        , 15.53903196, 15.69886662,\n",
       "       15.70524077, 15.716086  , 16.        , 16.54016101, 17.        ,\n",
       "       17.35684456, 18.        , 19.        , 19.61873656, 19.69200972,\n",
       "       19.87800595, 20.        , 20.11658711, 20.58206516, 20.62337291,\n",
       "       20.74143814, 21.        , 21.03131609, 21.15999083, 21.37426101,\n",
       "       21.66128908, 21.68843724, 21.78395795, 21.84937938, 21.88533687,\n",
       "       21.9700865 , 21.97387537, 21.99668448, 22.        , 22.07679377,\n",
       "       22.15412118, 22.55420099, 22.62833571, 22.70859453, 22.89854451,\n",
       "       22.97865435, 23.        , 23.43212217, 23.62616571, 24.        ,\n",
       "       25.        , 25.00303346, 26.        , 26.92328088, 26.97909966,\n",
       "       27.        , 27.06716701, 27.86176803, 28.        , 28.57450422,\n",
       "       29.        , 29.21363031, 29.27725493, 30.        , 30.17000552,\n",
       "       30.21757082, 30.41137168, 31.        , 31.57034694, 32.        ,\n",
       "       32.96079073, 33.        , 33.98856404, 34.        , 34.09523716,\n",
       "       34.80606375, 35.        , 35.43528627, 35.86805271, 36.        ,\n",
       "       36.05222305, 36.08248123, 36.38612138, 37.        , 38.        ,\n",
       "       38.97302785, 39.        , 39.06778318, 39.22021231, 39.36569586,\n",
       "       39.64884688, 39.84066684, 40.        , 40.02960838, 40.21163818,\n",
       "       40.21954023, 40.22291956, 40.27175622, 40.3130609 , 41.        ,\n",
       "       41.05576265, 41.92468701, 42.        , 42.31244885, 42.47703363,\n",
       "       42.57443482, 42.67488189, 42.80757923, 43.        , 43.52986722,\n",
       "       43.78602498, 44.        , 44.77484494, 45.        , 45.22263615,\n",
       "       45.49832873, 45.8746816 , 46.        , 46.14441441, 47.        ,\n",
       "       47.88689593, 47.92250524, 48.        , 48.22884509, 48.65798987,\n",
       "       48.73352076, 49.        , 49.56211007, 49.77180355, 50.        ,\n",
       "       50.61252646, 51.        , 51.27498313, 51.84331379, 52.        ,\n",
       "       52.09364557, 52.26589549, 52.90364175, 52.95610179, 53.        ,\n",
       "       53.00054426, 53.13371412, 53.20857075, 53.74064791, 53.81445366,\n",
       "       53.88482196, 53.92509313, 53.98657342, 54.        , 54.02811546,\n",
       "       54.12786791, 54.12808741, 54.19779553, 54.31637862, 54.32150219,\n",
       "       54.90996001, 54.94776315, 55.        , 55.0496235 , 55.28284622,\n",
       "       55.46817822, 56.        , 57.        , 57.79907574, 57.88990253,\n",
       "       58.        , 59.        , 59.06407293, 60.        , 61.        ,\n",
       "       62.        , 63.        , 63.3165034 , 63.44286055, 63.94412241,\n",
       "       64.        , 65.        , 65.32631514, 65.48546225, 65.48676418,\n",
       "       65.75535341, 66.        , 66.8746282 , 67.        , 67.61955327,\n",
       "       67.94658313, 68.        , 68.354736  , 69.        , 69.47349551,\n",
       "       69.56455474, 69.75021141, 70.        , 70.8812074 , 71.        ,\n",
       "       71.4365551 , 71.69449219, 72.        , 73.        , 73.11754646,\n",
       "       73.1252178 , 73.3541625 , 73.5287885 , 73.72698762, 73.75246282,\n",
       "       73.78056054, 73.86148281, 73.87393254, 73.95047209, 74.        ,\n",
       "       75.        , 75.41604574, 75.4964587 , 75.56085218, 75.78002329,\n",
       "       75.82839798, 76.        , 76.08238296, 76.12881373, 77.        ,\n",
       "       77.70324379, 77.75217906, 77.82717051, 78.        , 78.12013864,\n",
       "       78.5197869 , 78.80845271, 78.96602793, 79.        , 80.        ,\n",
       "       80.03771402, 80.68725679, 81.        , 82.        , 83.        ,\n",
       "       84.        , 85.        , 85.10649666, 85.1973446 , 85.21355206,\n",
       "       85.91415214, 86.        , 87.        , 87.46320488, 87.65161135,\n",
       "       88.        , 89.        , 89.75596046, 90.        , 91.        ,\n",
       "       91.03089919, 91.47105128, 92.        , 92.50434968, 93.        ,\n",
       "       93.3037431 , 94.        , 94.56724264, 94.8005884 , 95.        ,\n",
       "       95.28137499, 95.40270277, 95.62736649, 95.93610355, 96.        ,\n",
       "       97.        , 97.74902707, 98.        , 99.        ])"
      ]
     },
     "execution_count": 24,
     "metadata": {},
     "output_type": "execute_result"
    }
   ],
   "source": [
    "intensity_tracked_times"
   ]
  },
  {
   "cell_type": "code",
   "execution_count": 25,
   "id": "74ead3fb-5df7-4d65-a7ff-ea968d3f29b5",
   "metadata": {},
   "outputs": [
    {
     "data": {
      "text/plain": [
       "[array([1.07664569, 2.30277201, 1.37779547, 1.26933092, 1.17410586,\n",
       "        1.08012248, 1.0776843 , 2.49160058, 1.4668013 , 1.27402346,\n",
       "        1.20023957, 1.08105478, 1.07731777, 1.44079894, 1.08963649,\n",
       "        1.0828357 , 1.74026021, 2.76634162, 2.49895968, 2.64827185,\n",
       "        1.36303921, 1.4371899 , 1.08950774, 1.07710453, 1.07666718,\n",
       "        2.34567457, 3.71344695, 2.74540631, 1.46359155, 1.98886114,\n",
       "        1.71686337, 2.26424492, 3.68177581, 3.90117343, 5.39165838,\n",
       "        4.384064  , 4.33786109, 2.96225912, 1.38934288, 2.17311173,\n",
       "        3.67267763, 5.08059788, 3.23443923, 1.43313518, 1.4894633 ,\n",
       "        1.20229867, 1.27365938, 1.08367395, 1.07753927, 2.29561805,\n",
       "        2.56907655, 3.10607621, 2.45257797, 1.69780623, 2.97315322,\n",
       "        3.40544171, 2.71717857, 2.55456343, 3.05193115, 2.80511089,\n",
       "        2.33806162, 3.64967226, 4.07922974, 4.74150594, 5.70718125,\n",
       "        5.74014297, 7.21741042, 8.20927991, 9.66910594, 7.72856788,\n",
       "        7.41905202, 3.15790851, 3.9169954 , 4.44050599, 3.6882747 ,\n",
       "        4.26705735, 5.49643602, 2.12339036, 2.43937735, 1.91593477,\n",
       "        1.10658648, 1.10628526, 1.13376195, 1.07927701, 2.37008591,\n",
       "        3.73368935, 3.20069444, 1.3369431 , 2.22192581, 1.24539099,\n",
       "        1.49407608, 1.28144218, 2.50039636, 1.34443876, 1.22859234,\n",
       "        2.53358711, 2.65547932, 1.51719318, 1.14246161, 1.46375303,\n",
       "        1.0923835 , 2.45521745, 1.12773574, 2.62296664, 2.202364  ,\n",
       "        1.32741548, 2.02285345, 1.29838623, 1.49660503, 2.34901745,\n",
       "        2.14573358, 3.4492603 , 2.50422251, 1.46208596, 1.09039588,\n",
       "        1.07718236, 2.49871848, 2.21112251, 2.69492987, 3.03072857,\n",
       "        2.44226435, 2.61775616, 2.89719383, 2.72609759, 2.82359873,\n",
       "        4.29306641, 5.7949314 , 6.4077665 , 7.07731673, 1.84196893,\n",
       "        1.71215248, 1.19762471, 2.38078299, 1.53690997, 2.24114406,\n",
       "        3.0424321 , 3.59586764, 3.69470279, 3.27414856, 1.45236895,\n",
       "        1.89882092, 2.2417319 , 1.16468064, 1.85250782, 1.44603619,\n",
       "        1.84446363, 1.73923948, 2.53722986, 1.97918332, 1.21854122,\n",
       "        1.08402567, 2.46443737, 3.34975729, 2.13671329, 1.70222794,\n",
       "        2.77212664, 2.41392282, 1.28199051, 1.95185694, 2.21257682,\n",
       "        1.22409038, 1.54462623, 1.26377807, 1.33871527, 2.15464918,\n",
       "        1.86560447, 2.39687969, 1.41979917, 2.6705401 , 3.79716799,\n",
       "        3.79223687, 3.81655916, 4.42337152, 1.90863222, 2.9432935 ,\n",
       "        3.78313715, 4.80309458, 5.37970262, 6.67860472, 6.17744966,\n",
       "        5.84989996, 7.40058567, 7.32221858, 6.33049224, 7.77050349,\n",
       "        2.23683916, 3.47065263, 4.39484055, 3.88896425, 3.08398906,\n",
       "        2.99742974, 1.66712024, 1.09771027, 1.07811384, 2.22676446,\n",
       "        2.95101169, 1.14351181, 1.13065281, 1.14772605, 1.07918141,\n",
       "        1.07673615, 1.07664892, 1.07664681, 2.09734489, 1.5611496 ,\n",
       "        2.76981496, 1.1370478 , 1.09700029, 2.00363759, 3.54820272,\n",
       "        2.72156661, 2.49250367, 1.15335811, 2.15121147, 1.21289609,\n",
       "        1.64532106, 2.85420283, 1.62151282, 1.32106838, 1.12707541,\n",
       "        2.2620175 , 2.55267081, 2.39498913, 1.14652525, 2.17043908,\n",
       "        1.33189058, 1.8429664 , 1.91519016, 1.10655992, 1.09686246,\n",
       "        2.61239944, 2.51768949, 2.75080467, 2.74469576, 4.03759029,\n",
       "        5.18912025, 5.40444065, 6.72060795, 6.65474847, 7.12446245,\n",
       "        1.29239546, 1.13055483, 2.30750009, 3.32460432, 2.90843206,\n",
       "        3.95933986, 3.58142098, 2.97994554, 4.03933907, 1.32425996,\n",
       "        1.1003991 , 2.41805002, 3.33267684, 3.21895415, 2.51201451,\n",
       "        1.86590606, 1.97237651, 2.5262111 , 3.75981139, 1.17236492,\n",
       "        1.16105738, 1.26477732, 1.6913501 , 1.09857465, 1.07742798,\n",
       "        1.0766736 , 1.07664668, 1.07664639, 2.22559938, 3.63869231,\n",
       "        1.47511645, 2.54421725, 1.12899983, 1.08782444, 1.91259932,\n",
       "        1.82530463, 1.10335334, 1.07879486, 1.76709924, 1.10127692,\n",
       "        1.09886625, 1.4403878 , 1.40576703, 1.13791389, 1.38643794,\n",
       "        1.18919877, 1.2404127 , 1.10136626, 1.80252447, 2.25014869,\n",
       "        1.53600465, 2.42115768, 2.44796297, 2.12238973, 3.17873185,\n",
       "        1.1516355 , 1.08282122, 1.75306913, 1.10077641])]"
      ]
     },
     "execution_count": 25,
     "metadata": {},
     "output_type": "execute_result"
    }
   ],
   "source": [
    "tracked_intensity"
   ]
  },
  {
   "cell_type": "code",
   "execution_count": 26,
   "id": "4bf431d5-2f57-47dc-98e8-8a3099969aa0",
   "metadata": {},
   "outputs": [
    {
     "data": {
      "text/plain": [
       "[array([ 0.26171969,  0.33306504,  1.13396494,  3.36246705,  3.39104133,\n",
       "         4.20442785,  6.56431294,  8.22239123,  8.47910229,  8.5608451 ,\n",
       "         8.80829512,  9.51074979, 12.91835534, 12.9793872 , 13.1372456 ,\n",
       "        13.77328057, 14.10622039, 14.29056757, 14.30602899, 14.42221321,\n",
       "        14.42668694, 14.59880966, 14.71865985, 15.53903196, 15.69886662,\n",
       "        15.70524077, 15.716086  , 16.54016101, 17.35684456, 19.61873656,\n",
       "        19.69200972, 19.87800595, 20.11658711, 20.58206516, 20.62337291,\n",
       "        20.74143814, 21.03131609, 21.15999083, 21.37426101, 21.66128908,\n",
       "        21.68843724, 21.78395795, 21.84937938, 21.88533687, 21.9700865 ,\n",
       "        21.97387537, 21.99668448, 22.07679377, 22.15412118, 22.55420099,\n",
       "        22.62833571, 22.70859453, 22.89854451, 22.97865435, 23.43212217,\n",
       "        23.62616571, 25.00303346, 26.92328088, 26.97909966, 27.06716701,\n",
       "        27.86176803, 28.57450422, 29.21363031, 29.27725493, 30.17000552,\n",
       "        30.21757082, 30.41137168, 31.57034694, 32.96079073, 33.98856404,\n",
       "        34.09523716, 34.80606375, 35.43528627, 35.86805271, 36.05222305,\n",
       "        36.08248123, 36.38612138, 38.97302785, 39.06778318, 39.22021231,\n",
       "        39.36569586, 39.64884688, 39.84066684, 40.02960838, 40.21163818,\n",
       "        40.21954023, 40.22291956, 40.27175622, 40.3130609 , 41.05576265,\n",
       "        41.92468701, 42.31244885, 42.47703363, 42.57443482, 42.67488189,\n",
       "        42.80757923, 43.52986722, 43.78602498, 44.77484494, 45.22263615,\n",
       "        45.49832873, 45.8746816 , 46.14441441, 47.88689593, 47.92250524,\n",
       "        48.22884509, 48.65798987, 48.73352076, 49.56211007, 49.77180355,\n",
       "        50.61252646, 51.27498313, 51.84331379, 52.09364557, 52.26589549,\n",
       "        52.90364175, 52.95610179, 53.00054426, 53.13371412, 53.20857075,\n",
       "        53.74064791, 53.81445366, 53.88482196, 53.92509313, 53.98657342,\n",
       "        54.02811546, 54.12786791, 54.12808741, 54.19779553, 54.31637862,\n",
       "        54.32150219, 54.90996001, 54.94776315, 55.0496235 , 55.28284622,\n",
       "        55.46817822, 57.79907574, 57.88990253, 59.06407293, 63.3165034 ,\n",
       "        63.44286055, 63.94412241, 65.32631514, 65.48546225, 65.48676418,\n",
       "        65.75535341, 66.8746282 , 67.61955327, 67.94658313, 68.354736  ,\n",
       "        69.47349551, 69.56455474, 69.75021141, 70.8812074 , 71.4365551 ,\n",
       "        71.69449219, 73.11754646, 73.1252178 , 73.3541625 , 73.5287885 ,\n",
       "        73.72698762, 73.75246282, 73.78056054, 73.86148281, 73.87393254,\n",
       "        73.95047209, 75.41604574, 75.4964587 , 75.56085218, 75.78002329,\n",
       "        75.82839798, 76.08238296, 76.12881373, 77.70324379, 77.75217906,\n",
       "        77.82717051, 78.12013864, 78.5197869 , 78.80845271, 78.96602793,\n",
       "        80.03771402, 80.68725679, 85.10649666, 85.1973446 , 85.21355206,\n",
       "        85.91415214, 87.46320488, 87.65161135, 89.75596046, 91.03089919,\n",
       "        91.47105128, 92.50434968, 93.3037431 , 94.56724264, 94.8005884 ,\n",
       "        95.28137499, 95.40270277, 95.62736649, 95.93610355, 97.74902707,\n",
       "        99.86753331])]"
      ]
     },
     "execution_count": 26,
     "metadata": {},
     "output_type": "execute_result"
    }
   ],
   "source": [
    "timestamps"
   ]
  },
  {
   "cell_type": "code",
   "execution_count": 27,
   "id": "a4e3f81e-be52-4b2d-9b22-6949cf49b158",
   "metadata": {},
   "outputs": [
    {
     "data": {
      "text/plain": [
       "array([ 0.26171969,  0.33306504,  1.        ,  1.13396494,  2.        ,\n",
       "        3.        ,  3.36246705,  3.39104133,  4.        ,  4.20442785,\n",
       "        5.        ,  6.        ,  6.56431294,  7.        ,  8.        ,\n",
       "        8.22239123,  8.47910229,  8.5608451 ,  8.80829512,  9.        ,\n",
       "        9.51074979, 10.        , 11.        , 12.        , 12.91835534,\n",
       "       12.9793872 , 13.        , 13.1372456 , 13.77328057, 14.        ,\n",
       "       14.10622039, 14.29056757, 14.30602899, 14.42221321, 14.42668694,\n",
       "       14.59880966, 14.71865985, 15.        , 15.53903196, 15.69886662,\n",
       "       15.70524077, 15.716086  , 16.        , 16.54016101, 17.        ,\n",
       "       17.35684456, 18.        , 19.        , 19.61873656, 19.69200972,\n",
       "       19.87800595, 20.        , 20.11658711, 20.58206516, 20.62337291,\n",
       "       20.74143814, 21.        , 21.03131609, 21.15999083, 21.37426101,\n",
       "       21.66128908, 21.68843724, 21.78395795, 21.84937938, 21.88533687,\n",
       "       21.9700865 , 21.97387537, 21.99668448, 22.        , 22.07679377,\n",
       "       22.15412118, 22.55420099, 22.62833571, 22.70859453, 22.89854451,\n",
       "       22.97865435, 23.        , 23.43212217, 23.62616571, 24.        ,\n",
       "       25.        , 25.00303346, 26.        , 26.92328088, 26.97909966,\n",
       "       27.        , 27.06716701, 27.86176803, 28.        , 28.57450422,\n",
       "       29.        , 29.21363031, 29.27725493, 30.        , 30.17000552,\n",
       "       30.21757082, 30.41137168, 31.        , 31.57034694, 32.        ,\n",
       "       32.96079073, 33.        , 33.98856404, 34.        , 34.09523716,\n",
       "       34.80606375, 35.        , 35.43528627, 35.86805271, 36.        ,\n",
       "       36.05222305, 36.08248123, 36.38612138, 37.        , 38.        ,\n",
       "       38.97302785, 39.        , 39.06778318, 39.22021231, 39.36569586,\n",
       "       39.64884688, 39.84066684, 40.        , 40.02960838, 40.21163818,\n",
       "       40.21954023, 40.22291956, 40.27175622, 40.3130609 , 41.        ,\n",
       "       41.05576265, 41.92468701, 42.        , 42.31244885, 42.47703363,\n",
       "       42.57443482, 42.67488189, 42.80757923, 43.        , 43.52986722,\n",
       "       43.78602498, 44.        , 44.77484494, 45.        , 45.22263615,\n",
       "       45.49832873, 45.8746816 , 46.        , 46.14441441, 47.        ,\n",
       "       47.88689593, 47.92250524, 48.        , 48.22884509, 48.65798987,\n",
       "       48.73352076, 49.        , 49.56211007, 49.77180355, 50.        ,\n",
       "       50.61252646, 51.        , 51.27498313, 51.84331379, 52.        ,\n",
       "       52.09364557, 52.26589549, 52.90364175, 52.95610179, 53.        ,\n",
       "       53.00054426, 53.13371412, 53.20857075, 53.74064791, 53.81445366,\n",
       "       53.88482196, 53.92509313, 53.98657342, 54.        , 54.02811546,\n",
       "       54.12786791, 54.12808741, 54.19779553, 54.31637862, 54.32150219,\n",
       "       54.90996001, 54.94776315, 55.        , 55.0496235 , 55.28284622,\n",
       "       55.46817822, 56.        , 57.        , 57.79907574, 57.88990253,\n",
       "       58.        , 59.        , 59.06407293, 60.        , 61.        ,\n",
       "       62.        , 63.        , 63.3165034 , 63.44286055, 63.94412241,\n",
       "       64.        , 65.        , 65.32631514, 65.48546225, 65.48676418,\n",
       "       65.75535341, 66.        , 66.8746282 , 67.        , 67.61955327,\n",
       "       67.94658313, 68.        , 68.354736  , 69.        , 69.47349551,\n",
       "       69.56455474, 69.75021141, 70.        , 70.8812074 , 71.        ,\n",
       "       71.4365551 , 71.69449219, 72.        , 73.        , 73.11754646,\n",
       "       73.1252178 , 73.3541625 , 73.5287885 , 73.72698762, 73.75246282,\n",
       "       73.78056054, 73.86148281, 73.87393254, 73.95047209, 74.        ,\n",
       "       75.        , 75.41604574, 75.4964587 , 75.56085218, 75.78002329,\n",
       "       75.82839798, 76.        , 76.08238296, 76.12881373, 77.        ,\n",
       "       77.70324379, 77.75217906, 77.82717051, 78.        , 78.12013864,\n",
       "       78.5197869 , 78.80845271, 78.96602793, 79.        , 80.        ,\n",
       "       80.03771402, 80.68725679, 81.        , 82.        , 83.        ,\n",
       "       84.        , 85.        , 85.10649666, 85.1973446 , 85.21355206,\n",
       "       85.91415214, 86.        , 87.        , 87.46320488, 87.65161135,\n",
       "       88.        , 89.        , 89.75596046, 90.        , 91.        ,\n",
       "       91.03089919, 91.47105128, 92.        , 92.50434968, 93.        ,\n",
       "       93.3037431 , 94.        , 94.56724264, 94.8005884 , 95.        ,\n",
       "       95.28137499, 95.40270277, 95.62736649, 95.93610355, 96.        ,\n",
       "       97.        , 97.74902707, 98.        , 99.        ])"
      ]
     },
     "execution_count": 27,
     "metadata": {},
     "output_type": "execute_result"
    }
   ],
   "source": [
    "intensity_tracked_times"
   ]
  },
  {
   "cell_type": "code",
   "execution_count": 28,
   "id": "72dfed65-f5a0-456a-b749-5d693f0b487d",
   "metadata": {},
   "outputs": [],
   "source": [
    "best_hawkes_simulator = SimuHawkes(n_nodes=number_of_nodes, \n",
    "                                    end_time=1, \n",
    "                                    verbose=False, \n",
    "                                    seed=SEED)\n",
    "best_learned_kernel = HawkesKernelExp(intensity=best_hawkes_model.adjacency[0][0], \n",
    "                                        decay= best_hawkes_model.decays)\n",
    "best_hawkes_simulator.set_kernel(0, 0, best_learned_kernel)\n",
    "best_hawkes_simulator.set_baseline(0, best_hawkes_model.baseline[0])\n",
    "best_hawkes_simulator.simulate()\n"
   ]
  },
  {
   "cell_type": "code",
   "execution_count": 29,
   "id": "7e7d30c8-2dcb-4271-883d-1ebc1178533a",
   "metadata": {},
   "outputs": [],
   "source": [
    "predicted_time_step = best_hawkes_simulator.timestamps\n"
   ]
  },
  {
   "cell_type": "code",
   "execution_count": 30,
   "id": "277a0a48-6c3d-43f8-b7d0-c80e1904c483",
   "metadata": {},
   "outputs": [
    {
     "data": {
      "text/plain": [
       "[array([0.24308804, 0.3108563 ])]"
      ]
     },
     "execution_count": 30,
     "metadata": {},
     "output_type": "execute_result"
    }
   ],
   "source": [
    "predicted_time_step"
   ]
  },
  {
   "cell_type": "code",
   "execution_count": 31,
   "id": "73aa5496-aa27-4673-ab8c-21dd25952033",
   "metadata": {},
   "outputs": [
    {
     "data": {
      "text/plain": [
       "[array([0.24308804, 0.3108563 ])]"
      ]
     },
     "execution_count": 31,
     "metadata": {},
     "output_type": "execute_result"
    }
   ],
   "source": [
    "best_hawkes_simulator.timestamps"
   ]
  },
  {
   "cell_type": "code",
   "execution_count": null,
   "id": "0930a106-62fe-475d-906a-62282e3ec0d5",
   "metadata": {},
   "outputs": [],
   "source": []
  },
  {
   "cell_type": "code",
   "execution_count": 32,
   "id": "5541a54c-20c9-414d-855c-d46a52278779",
   "metadata": {},
   "outputs": [
    {
     "ename": "ValueError",
     "evalue": "Intensity has not been tracked, you should call track_intensity before simulation",
     "output_type": "error",
     "traceback": [
      "\u001b[0;31m---------------------------------------------------------------------------\u001b[0m",
      "\u001b[0;31mValueError\u001b[0m                                Traceback (most recent call last)",
      "Input \u001b[0;32mIn [32]\u001b[0m, in \u001b[0;36m<cell line: 1>\u001b[0;34m()\u001b[0m\n\u001b[0;32m----> 1\u001b[0m intensity \u001b[38;5;241m=\u001b[39m \u001b[43mbest_hawkes_simulator\u001b[49m\u001b[38;5;241;43m.\u001b[39;49m\u001b[43mtracked_intensity\u001b[49m\n\u001b[1;32m      2\u001b[0m intensity_times \u001b[38;5;241m=\u001b[39m best_hawkes_simulator\u001b[38;5;241m.\u001b[39mintensity_tracked_times\n",
      "File \u001b[0;32m~/opt/miniconda3/envs/tick/lib/python3.9/site-packages/tick/hawkes/simulation/base/simu_point_process.py:112\u001b[0m, in \u001b[0;36mSimuPointProcess.tracked_intensity\u001b[0;34m(self)\u001b[0m\n\u001b[1;32m    109\u001b[0m \u001b[38;5;129m@property\u001b[39m\n\u001b[1;32m    110\u001b[0m \u001b[38;5;28;01mdef\u001b[39;00m \u001b[38;5;21mtracked_intensity\u001b[39m(\u001b[38;5;28mself\u001b[39m):\n\u001b[1;32m    111\u001b[0m     \u001b[38;5;28;01mif\u001b[39;00m \u001b[38;5;129;01mnot\u001b[39;00m \u001b[38;5;28mself\u001b[39m\u001b[38;5;241m.\u001b[39mis_intensity_tracked():\n\u001b[0;32m--> 112\u001b[0m         \u001b[38;5;28;01mraise\u001b[39;00m \u001b[38;5;167;01mValueError\u001b[39;00m(\u001b[38;5;124m\"\u001b[39m\u001b[38;5;124mIntensity has not been tracked, you should call \u001b[39m\u001b[38;5;124m\"\u001b[39m\n\u001b[1;32m    113\u001b[0m                          \u001b[38;5;124m\"\u001b[39m\u001b[38;5;124mtrack_intensity before simulation\u001b[39m\u001b[38;5;124m\"\u001b[39m)\n\u001b[1;32m    114\u001b[0m     \u001b[38;5;28;01mreturn\u001b[39;00m \u001b[38;5;28mself\u001b[39m\u001b[38;5;241m.\u001b[39m_pp\u001b[38;5;241m.\u001b[39mget_itr()\n",
      "\u001b[0;31mValueError\u001b[0m: Intensity has not been tracked, you should call track_intensity before simulation"
     ]
    }
   ],
   "source": [
    "intensity = best_hawkes_simulator.tracked_intensity\n",
    "intensity_times = best_hawkes_simulator.intensity_tracked_times"
   ]
  },
  {
   "cell_type": "code",
   "execution_count": null,
   "id": "99f3d4f9-5957-4e9e-93b6-709849a76ca7",
   "metadata": {},
   "outputs": [],
   "source": []
  },
  {
   "cell_type": "code",
   "execution_count": null,
   "id": "69c7f774-bfeb-4657-8cb3-64338deac5f9",
   "metadata": {},
   "outputs": [],
   "source": []
  },
  {
   "cell_type": "code",
   "execution_count": null,
   "id": "8c6ddb30-c2c9-4890-bdf3-b79f67c210b3",
   "metadata": {},
   "outputs": [],
   "source": []
  },
  {
   "cell_type": "code",
   "execution_count": null,
   "id": "42496e1a-ee69-48cf-9e2f-e35952ad7727",
   "metadata": {},
   "outputs": [],
   "source": []
  },
  {
   "cell_type": "code",
   "execution_count": 37,
   "id": "25c0210e-da94-4e99-b712-e4492ec49dd8",
   "metadata": {},
   "outputs": [],
   "source": [
    "class UnivariateHawkes():\n",
    "    \"\"\" \"\"\"\n",
    "    \n",
    "    def __init__(self,\n",
    "                baseline:float = None, \n",
    "                alpha: float = None,\n",
    "                beta: float = None,\n",
    "                total_run_time: int = 100,\n",
    "                time_step: float = 0.01,\n",
    "                max_iter: int = 10000,\n",
    "                tol: float = 1e-10,\n",
    "                min_beta: float = 0,\n",
    "                max_beta: float = 30,\n",
    "                verbose: bool = False,\n",
    "                seed: int = 1500\n",
    "                ):\n",
    "        self.number_of_nodes = 1\n",
    "        self.baseline = baseline\n",
    "        self.alpha = alpha\n",
    "        self.beta = beta\n",
    "        self.total_run_time = total_run_time\n",
    "        self.time_step = time_step\n",
    "        self.max_iter = max_iter\n",
    "        self.tol= tol \n",
    "        self.min_beta = min_beta\n",
    "        self.max_beta = max_beta\n",
    "        self.verbose = verbose\n",
    "        self.seed = seed \n",
    "        \n",
    "        \n",
    "        \n",
    "    def fit(self, events):\n",
    "            \n",
    "        beta_candidates = np.linspace(0, 30, 100)\n",
    "        scores = []\n",
    "        hawkes_models = {}\n",
    "        for i, beta in enumerate(beta_candidates):\n",
    "            hawkes_learner = HawkesExpKern(beta, \n",
    "                                           verbose=self.verbose, \n",
    "                                           max_iter=self.max_iter,\n",
    "                                           tol=self.tol)\n",
    "            hawkes_learner.fit(timestamps)\n",
    "            hawkes_models[i] = hawkes_learner\n",
    "            scores.append(hawkes_learner.score() )\n",
    "    \n",
    "        beta_scores_df = pd.DataFrame({'score': scores, \n",
    "                               'decay':beta_candidates}).sort_values(by = 'score', ascending = False)\n",
    "        best_hawkes_model_index = beta_scores_df.index[0]\n",
    "        best_hawkes_model = hawkes_models[best_hawkes_model_index]\n",
    "        self.baseline = best_hawkes_model.baseline[0]\n",
    "        self.alpha = best_hawkes_model.adjacency[0][0]\n",
    "        self.beta = best_hawkes_model.decays\n",
    "        \n",
    "        \n",
    "            \n",
    "    \n",
    "    def simulate(self)-> Tuple[np.ndarray, np.ndarray, np.ndarray]:\n",
    "         \n",
    "        hawkes = SimuHawkes(n_nodes=self.number_of_nodes, \n",
    "                            end_time=self.total_run_time, \n",
    "                            verbose=self.verbose, \n",
    "                            seed=self.seed)\n",
    "        kernel = HawkesKernelExp(intensity=self.alpha, \n",
    "                                    decay= self.beta)\n",
    "        hawkes.set_kernel(0, 0, kernel)\n",
    "        hawkes.set_baseline(0, self.baseline)\n",
    "        hawkes.track_intensity(self.time_step)\n",
    "        hawkes.simulate()\n",
    "        \n",
    "        return hawkes.timestamps, hawkes.tracked_intensity, hawkes.intensity_tracked_times\n",
    "        \n",
    "        \n",
    "    \n",
    "    \n",
    "    \n",
    "    def get_conditional_intensity(self,\n",
    "                                  events: np.ndarray, \n",
    "                                  current_step: float) -> float:\n",
    "\n",
    "        return self.baseline + np.sum(self.alpha*self.beta * np.exp(-self.beta * (current_step - events)))            \n",
    "    \n",
    "    \n",
    "    def get_next_arrival_time(self,\n",
    "                                  events: np.ndarray, \n",
    "                                  current_step: float)-> float:\n",
    "        \n",
    "        predicted_intensity = self.get_conditional_intensity(events, current_step)\n",
    "        \n",
    "        return current_step + np.random.exponential(1 / predicted_intensity)\n",
    "    "
   ]
  },
  {
   "cell_type": "code",
   "execution_count": null,
   "id": "3beb05cb-17df-4c28-8e1d-6eb8c5abd493",
   "metadata": {},
   "outputs": [],
   "source": []
  },
  {
   "cell_type": "code",
   "execution_count": null,
   "id": "e145d577-c127-42f1-b956-2cbfb9cc33a7",
   "metadata": {},
   "outputs": [],
   "source": []
  },
  {
   "cell_type": "code",
   "execution_count": 38,
   "id": "53d1ee24-3ee3-4855-b1d3-c2051c94353a",
   "metadata": {},
   "outputs": [],
   "source": [
    "SEED = 1398\n",
    "total_run_time = 100\n",
    "time_step = 0.01\n",
    "true_alpha = 0.5 # self-excitation intensity\n",
    "true_beta = 3 # decay\n",
    "true_baseline = 1 # mu\n"
   ]
  },
  {
   "cell_type": "code",
   "execution_count": 39,
   "id": "42129291-3d19-42eb-b98a-961ff7e13a99",
   "metadata": {},
   "outputs": [],
   "source": [
    "hawkes_model = UnivariateHawkes(baseline        = true_baseline, \n",
    "                                alpha           = true_alpha,\n",
    "                                beta            = true_beta,\n",
    "                                total_run_time  = total_run_time,\n",
    "                                time_step       = time_step,\n",
    "                                max_iter        = 10000,\n",
    "                                tol             = 1e-10,\n",
    "                                min_beta        = 0,\n",
    "                                max_beta        = 30,\n",
    "                                verbose         = False,\n",
    "                                seed            = SEED)"
   ]
  },
  {
   "cell_type": "code",
   "execution_count": 40,
   "id": "2b6586bf-1144-4506-8fd4-c5c2210530dd",
   "metadata": {},
   "outputs": [],
   "source": [
    "simulated_info = hawkes_model.simulate()"
   ]
  },
  {
   "cell_type": "code",
   "execution_count": 41,
   "id": "30c5de45-ea05-434d-bbcd-46167e79b383",
   "metadata": {},
   "outputs": [],
   "source": [
    "simulated_events, simulated_tracked_intensity, simulated_intensity_tracked_times = simulated_info"
   ]
  },
  {
   "cell_type": "code",
   "execution_count": 42,
   "id": "e2445117-c2f4-4aa7-bf62-52c34799223d",
   "metadata": {},
   "outputs": [
    {
     "name": "stdout",
     "output_type": "stream",
     "text": [
      "Step equals 0... at 0\n"
     ]
    }
   ],
   "source": [
    "hawkes_model.fit(simulated_events)"
   ]
  },
  {
   "cell_type": "code",
   "execution_count": 45,
   "id": "53c758f0-5887-4844-9cdb-f856714d92ee",
   "metadata": {},
   "outputs": [
    {
     "data": {
      "text/plain": [
       "(1, 0.5, 3)"
      ]
     },
     "execution_count": 45,
     "metadata": {},
     "output_type": "execute_result"
    }
   ],
   "source": [
    "true_baseline, true_alpha, true_beta"
   ]
  },
  {
   "cell_type": "code",
   "execution_count": 44,
   "id": "b9c7cedf-6ed1-440c-8e19-ece2f501f246",
   "metadata": {},
   "outputs": [
    {
     "data": {
      "text/plain": [
       "(1.0766456880520174, 0.46659430920350237, 3.3333333333333335)"
      ]
     },
     "execution_count": 44,
     "metadata": {},
     "output_type": "execute_result"
    }
   ],
   "source": [
    "hawkes_model.baseline, hawkes_model.alpha, hawkes_model.beta"
   ]
  },
  {
   "cell_type": "code",
   "execution_count": 50,
   "id": "7d6b38a7-82d1-4391-ab4b-eee2d5c0b7ee",
   "metadata": {},
   "outputs": [
    {
     "data": {
      "text/plain": [
       "100.28695364987065"
      ]
     },
     "execution_count": 50,
     "metadata": {},
     "output_type": "execute_result"
    }
   ],
   "source": [
    "hawkes_model.get_next_arrival_time(events=simulated_events[0], \n",
    "                                   current_step=simulated_events[0][-1])"
   ]
  },
  {
   "cell_type": "code",
   "execution_count": null,
   "id": "e43a074e-2e76-47ba-ad12-ea1572b5bd58",
   "metadata": {},
   "outputs": [],
   "source": []
  },
  {
   "cell_type": "code",
   "execution_count": null,
   "id": "38221867-24c9-44de-adcd-7fb18f5ba288",
   "metadata": {},
   "outputs": [],
   "source": []
  },
  {
   "cell_type": "code",
   "execution_count": null,
   "id": "436c49c7-54e3-4df0-8f9d-ca06194bfbfc",
   "metadata": {},
   "outputs": [],
   "source": [
    "class UnivariateHawkes():\n",
    "    \"\"\" \"\"\"\n",
    "    \n",
    "    def __init__(self,\n",
    "                baseline:float = None, \n",
    "                alpha: float = None,\n",
    "                beta: float = None,\n",
    "                total_run_time: int = 100,\n",
    "                time_step: float = 0.01,\n",
    "                max_iter: int = 10000,\n",
    "                tol: float = 1e-10,\n",
    "                min_beta: float = 0,\n",
    "                max_beta: float = 30,\n",
    "                verbose: bool = False,\n",
    "                seed: int = 1500\n",
    "                ):\n",
    "        self.number_of_nodes = 1\n",
    "        self.baseline = baseline\n",
    "        self.alpha = alpha\n",
    "        self.beta = beta\n",
    "        self.total_run_time = total_run_time\n",
    "        self.time_step = time_step\n",
    "        self.max_iter = max_iter\n",
    "        self.tol= tol \n",
    "        self.min_beta = min_beta\n",
    "        self.max_beta = max_beta\n",
    "        self.verbose = verbose\n",
    "        self.seed = seed \n",
    "        \n",
    "        \n",
    "        \n",
    "    def fit(self, events):\n",
    "            \n",
    "        beta_candidates = np.linspace(0, 30, 100)\n",
    "        scores = []\n",
    "        hawkes_models = {}\n",
    "        for i, beta in enumerate(beta_candidates):\n",
    "            hawkes_learner = HawkesExpKern(beta, \n",
    "                                           verbose=self.verbose, \n",
    "                                           max_iter=self.max_iter,\n",
    "                                           tol=self.tol)\n",
    "            hawkes_learner.fit(timestamps)\n",
    "            hawkes_models[i] = hawkes_learner\n",
    "            scores.append(hawkes_learner.score() )\n",
    "    \n",
    "        beta_scores_df = pd.DataFrame({'score': scores, \n",
    "                               'decay':beta_candidates}).sort_values(by = 'score', ascending = False)\n",
    "        best_hawkes_model_index = beta_scores_df.index[0]\n",
    "        best_hawkes_model = hawkes_models[best_hawkes_model_index]\n",
    "        self.baseline = best_hawkes_model.baseline[0]\n",
    "        self.alpha = best_hawkes_model.adjacency[0][0]\n",
    "        self.beta = best_hawkes_model.decays\n",
    "        \n",
    "        \n",
    "            \n",
    "    \n",
    "    def simulate(self)-> Tuple[np.ndarray, np.ndarray, np.ndarray]:\n",
    "         \n",
    "        hawkes = SimuHawkes(n_nodes=self.number_of_nodes, \n",
    "                            end_time=self.total_run_time, \n",
    "                            verbose=self.verbose, \n",
    "                            seed=self.seed)\n",
    "        kernel = HawkesKernelExp(intensity=self.alpha, \n",
    "                                    decay= self.beta)\n",
    "        hawkes.set_kernel(0, 0, kernel)\n",
    "        hawkes.set_baseline(0, self.baseline)\n",
    "        hawkes.track_intensity(self.time_step)\n",
    "        hawkes.simulate()\n",
    "        \n",
    "        return hawkes.timestamps, hawkes.tracked_intensity, hawkes.intensity_tracked_times\n",
    "        \n",
    "        \n",
    "    \n",
    "    \n",
    "    \n",
    "    def get_conditional_intensity(self,\n",
    "                                  events: np.ndarray, \n",
    "                                  current_step: float) -> float:\n",
    "\n",
    "        return self.baseline + np.sum(self.alpha*self.beta * np.exp(-self.beta * (current_step - events)))            \n",
    "    \n",
    "    \n",
    "    def get_next_arrival_time(self,\n",
    "                                  events: np.ndarray, \n",
    "                                  current_step: float)-> float:\n",
    "        \n",
    "        predicted_intensity = self.get_conditional_intensity(events, current_step)\n",
    "        \n",
    "        return current_step + np.random.exponential(1 / predicted_intensity)\n",
    "    "
   ]
  }
 ],
 "metadata": {
  "kernelspec": {
   "display_name": "tick",
   "language": "python",
   "name": "tick"
  },
  "language_info": {
   "codemirror_mode": {
    "name": "ipython",
    "version": 3
   },
   "file_extension": ".py",
   "mimetype": "text/x-python",
   "name": "python",
   "nbconvert_exporter": "python",
   "pygments_lexer": "ipython3",
   "version": "3.9.16"
  }
 },
 "nbformat": 4,
 "nbformat_minor": 5
}
