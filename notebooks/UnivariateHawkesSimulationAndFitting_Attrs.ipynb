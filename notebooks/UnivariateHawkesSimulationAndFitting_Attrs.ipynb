{
 "cells": [
  {
   "cell_type": "code",
   "execution_count": null,
   "id": "2476596e-305f-4245-809b-46d98c6dcd7e",
   "metadata": {},
   "outputs": [],
   "source": []
  },
  {
   "cell_type": "code",
   "execution_count": 1,
   "id": "6ee2da98-8af6-4354-a563-f6f10362c41c",
   "metadata": {},
   "outputs": [],
   "source": [
    "from typing import Tuple"
   ]
  },
  {
   "cell_type": "code",
   "execution_count": 2,
   "id": "2c561eaf-a9ee-4048-ad45-f06d0f3210e0",
   "metadata": {},
   "outputs": [],
   "source": [
    "import numpy as np\n",
    "import pandas as pd\n",
    "import matplotlib.pyplot as plt"
   ]
  },
  {
   "cell_type": "code",
   "execution_count": 3,
   "id": "6210a782-e995-43b4-ab2b-ffc289625c78",
   "metadata": {},
   "outputs": [],
   "source": [
    "from tick.hawkes import SimuHawkes, HawkesKernelSumExp, HawkesKernelExp\n",
    "from tick.hawkes import HawkesExpKern"
   ]
  },
  {
   "cell_type": "code",
   "execution_count": null,
   "id": "36b03cb0-f855-4245-ab83-7156dbbcdb33",
   "metadata": {},
   "outputs": [],
   "source": []
  },
  {
   "cell_type": "code",
   "execution_count": null,
   "id": "42496e1a-ee69-48cf-9e2f-e35952ad7727",
   "metadata": {},
   "outputs": [],
   "source": []
  },
  {
   "cell_type": "code",
   "execution_count": 4,
   "id": "25c0210e-da94-4e99-b712-e4492ec49dd8",
   "metadata": {},
   "outputs": [],
   "source": [
    "class UnivariateHawkes():\n",
    "    \"\"\" \"\"\"\n",
    "    \n",
    "    def __init__(self,\n",
    "                baseline:float = None, \n",
    "                alpha: float = None,\n",
    "                beta: float = None,\n",
    "                total_run_time: int = 100,\n",
    "                time_step: float = 0.01,\n",
    "                max_iter: int = 10000,\n",
    "                tol: float = 1e-10,\n",
    "                min_beta: float = 0,\n",
    "                max_beta: float = 30,\n",
    "                verbose: bool = False,\n",
    "                seed: int = 1500\n",
    "                ):\n",
    "        self.number_of_nodes = 1\n",
    "        self.baseline = baseline\n",
    "        self.alpha = alpha\n",
    "        self.beta = beta\n",
    "        self.total_run_time = total_run_time\n",
    "        self.time_step = time_step\n",
    "        self.max_iter = max_iter\n",
    "        self.tol= tol \n",
    "        self.min_beta = min_beta\n",
    "        self.max_beta = max_beta\n",
    "        self.verbose = verbose\n",
    "        self.seed = seed \n",
    "        \n",
    "        \n",
    "        \n",
    "    def fit(self, events):\n",
    "            \n",
    "        beta_candidates = np.linspace(0, 30, 100)\n",
    "        scores = []\n",
    "        hawkes_models = {}\n",
    "        for i, beta in enumerate(beta_candidates):\n",
    "            hawkes_learner = HawkesExpKern(beta, \n",
    "                                           verbose=self.verbose, \n",
    "                                           max_iter=self.max_iter,\n",
    "                                           tol=self.tol)\n",
    "            hawkes_learner.fit(events)\n",
    "            hawkes_models[i] = hawkes_learner\n",
    "            scores.append(hawkes_learner.score() )\n",
    "    \n",
    "        beta_scores_df = pd.DataFrame({'score': scores, \n",
    "                               'decay':beta_candidates}).sort_values(by = 'score', ascending = False)\n",
    "        best_hawkes_model_index = beta_scores_df.index[0]\n",
    "        best_hawkes_model = hawkes_models[best_hawkes_model_index]\n",
    "        self.baseline = best_hawkes_model.baseline[0]\n",
    "        self.alpha = best_hawkes_model.adjacency[0][0]\n",
    "        self.beta = best_hawkes_model.decays\n",
    "        \n",
    "        \n",
    "            \n",
    "    \n",
    "    def simulate(self)-> Tuple[np.ndarray, np.ndarray, np.ndarray]:\n",
    "         \n",
    "        hawkes = SimuHawkes(n_nodes=self.number_of_nodes, \n",
    "                            end_time=self.total_run_time, \n",
    "                            verbose=self.verbose, \n",
    "                            seed=self.seed)\n",
    "        kernel = HawkesKernelExp(intensity=self.alpha, \n",
    "                                    decay= self.beta)\n",
    "        hawkes.set_kernel(0, 0, kernel)\n",
    "        hawkes.set_baseline(0, self.baseline)\n",
    "        hawkes.track_intensity(self.time_step)\n",
    "        hawkes.simulate()\n",
    "        \n",
    "        return hawkes.timestamps, hawkes.tracked_intensity, hawkes.intensity_tracked_times\n",
    "        \n",
    "        \n",
    "    \n",
    "    \n",
    "    \n",
    "    def get_conditional_intensity(self,\n",
    "                                  events: np.ndarray, \n",
    "                                  current_step: float) -> float:\n",
    "\n",
    "        return self.baseline + np.sum(self.alpha*self.beta * np.exp(-self.beta * (current_step - events)))            \n",
    "    \n",
    "    \n",
    "    def get_next_arrival_time(self,\n",
    "                                  events: np.ndarray, \n",
    "                                  current_step: float)-> float:\n",
    "        \n",
    "        predicted_intensity = self.get_conditional_intensity(events, current_step)\n",
    "        \n",
    "        return current_step + np.random.exponential(1 / predicted_intensity)\n",
    "    "
   ]
  },
  {
   "cell_type": "code",
   "execution_count": null,
   "id": "3beb05cb-17df-4c28-8e1d-6eb8c5abd493",
   "metadata": {},
   "outputs": [],
   "source": []
  },
  {
   "cell_type": "code",
   "execution_count": null,
   "id": "e145d577-c127-42f1-b956-2cbfb9cc33a7",
   "metadata": {},
   "outputs": [],
   "source": []
  },
  {
   "cell_type": "code",
   "execution_count": 5,
   "id": "53d1ee24-3ee3-4855-b1d3-c2051c94353a",
   "metadata": {},
   "outputs": [],
   "source": [
    "SEED = 1398\n",
    "total_run_time = 100\n",
    "time_step = 0.01\n",
    "true_alpha = 0.5 # self-excitation intensity\n",
    "true_beta = 3 # decay\n",
    "true_baseline = 1 # mu\n"
   ]
  },
  {
   "cell_type": "code",
   "execution_count": 6,
   "id": "42129291-3d19-42eb-b98a-961ff7e13a99",
   "metadata": {},
   "outputs": [],
   "source": [
    "hawkes_model = UnivariateHawkes(baseline        = true_baseline, \n",
    "                                alpha           = true_alpha,\n",
    "                                beta            = true_beta,\n",
    "                                total_run_time  = total_run_time,\n",
    "                                time_step       = time_step,\n",
    "                                max_iter        = 10000,\n",
    "                                tol             = 1e-10,\n",
    "                                min_beta        = 0,\n",
    "                                max_beta        = 30,\n",
    "                                verbose         = False,\n",
    "                                seed            = SEED)"
   ]
  },
  {
   "cell_type": "code",
   "execution_count": 7,
   "id": "2b6586bf-1144-4506-8fd4-c5c2210530dd",
   "metadata": {},
   "outputs": [
    {
     "name": "stdout",
     "output_type": "stream",
     "text": [
      "Step equals 0... at 0\n"
     ]
    }
   ],
   "source": [
    "simulated_info = hawkes_model.simulate()\n",
    "simulated_events, simulated_tracked_intensity, simulated_intensity_tracked_times = simulated_info\n",
    "\n",
    "hawkes_model.fit(simulated_events)"
   ]
  },
  {
   "cell_type": "code",
   "execution_count": null,
   "id": "30c5de45-ea05-434d-bbcd-46167e79b383",
   "metadata": {},
   "outputs": [],
   "source": []
  },
  {
   "cell_type": "code",
   "execution_count": null,
   "id": "e2445117-c2f4-4aa7-bf62-52c34799223d",
   "metadata": {},
   "outputs": [],
   "source": []
  },
  {
   "cell_type": "code",
   "execution_count": 8,
   "id": "53c758f0-5887-4844-9cdb-f856714d92ee",
   "metadata": {},
   "outputs": [
    {
     "data": {
      "text/plain": [
       "(1, 0.5, 3)"
      ]
     },
     "execution_count": 8,
     "metadata": {},
     "output_type": "execute_result"
    }
   ],
   "source": [
    "true_baseline, true_alpha, true_beta"
   ]
  },
  {
   "cell_type": "code",
   "execution_count": 9,
   "id": "b9c7cedf-6ed1-440c-8e19-ece2f501f246",
   "metadata": {},
   "outputs": [
    {
     "data": {
      "text/plain": [
       "(1.0766456880520174, 0.46659430920350237, 3.3333333333333335)"
      ]
     },
     "execution_count": 9,
     "metadata": {},
     "output_type": "execute_result"
    }
   ],
   "source": [
    "hawkes_model.baseline, hawkes_model.alpha, hawkes_model.beta"
   ]
  },
  {
   "cell_type": "code",
   "execution_count": 10,
   "id": "7d6b38a7-82d1-4391-ab4b-eee2d5c0b7ee",
   "metadata": {},
   "outputs": [
    {
     "data": {
      "text/plain": [
       "100.10642847814678"
      ]
     },
     "execution_count": 10,
     "metadata": {},
     "output_type": "execute_result"
    }
   ],
   "source": [
    "hawkes_model.get_next_arrival_time(events=simulated_events[0], \n",
    "                                   current_step=simulated_events[0][-1])"
   ]
  },
  {
   "cell_type": "code",
   "execution_count": null,
   "id": "e43a074e-2e76-47ba-ad12-ea1572b5bd58",
   "metadata": {},
   "outputs": [],
   "source": []
  },
  {
   "cell_type": "code",
   "execution_count": 11,
   "id": "0041cd4e-bcc8-45bd-b21c-28200f943032",
   "metadata": {},
   "outputs": [],
   "source": [
    "import attrs\n",
    "@attrs.define\n",
    "class UnivariateHawkesModel():\n",
    "    \n",
    "    \"\"\"A wrappper class leveraging tick's implementation of univariate Hawkes process\n",
    "    \n",
    "    For more detaisl, consult:\n",
    "    https://x-datainitiative.github.io/tick/modules/generated/tick.hawkes.HawkesExpKern.html#tick.hawkes.HawkesExpKern\n",
    "    \n",
    "    \"\"\"\n",
    "    \n",
    "    number_of_nodes: int = 1\n",
    "    baseline:float = None \n",
    "    alpha: float = None\n",
    "    beta: float = None\n",
    "    max_iter: int = 10000\n",
    "    tol: float = 1e-10\n",
    "    min_beta: float = 0\n",
    "    max_beta: float = 30\n",
    "    verbose: bool = False\n",
    "    seed: int = 1500\n",
    "        \n",
    "        \n",
    "    def fit(self, events: np.ndarray):\n",
    "        \"\"\"Fits the Hawkes parameters to the input events realization  \"\"\"    \n",
    "        beta_candidates = np.linspace(self.min_beta, self.max_beta, 100)\n",
    "        scores = []\n",
    "        hawkes_models = {}\n",
    "        for i, beta in enumerate(beta_candidates):\n",
    "            hawkes_learner = HawkesExpKern(beta, \n",
    "                                           verbose=self.verbose, \n",
    "                                           max_iter=self.max_iter,\n",
    "                                           tol=self.tol)\n",
    "            hawkes_learner.fit(events)\n",
    "            hawkes_models[i] = hawkes_learner\n",
    "            scores.append(hawkes_learner.score() )\n",
    "    \n",
    "        beta_scores_df = pd.DataFrame({'score': scores, \n",
    "                               'decay':beta_candidates}).sort_values(by = 'score', ascending = False)\n",
    "        best_hawkes_model_index = beta_scores_df.index[0]\n",
    "        best_hawkes_model = hawkes_models[best_hawkes_model_index]\n",
    "        self.baseline = best_hawkes_model.baseline[0]\n",
    "        self.alpha = best_hawkes_model.adjacency[0][0]\n",
    "        self.beta = best_hawkes_model.decays\n",
    "        \n",
    "        \n",
    "            \n",
    "    \n",
    "    def simulate(self,\n",
    "                total_run_time: int = 100,\n",
    "                time_step: float = 0.01)-> Tuple[np.ndarray, np.ndarray, np.ndarray]:\n",
    "        \"\"\" Simulates a realization of events from existing model parameters. \"\"\" \n",
    "        hawkes = SimuHawkes(n_nodes=self.number_of_nodes, \n",
    "                            end_time=total_run_time, \n",
    "                            verbose=self.verbose, \n",
    "                            seed=self.seed)\n",
    "        kernel = HawkesKernelExp(intensity=self.alpha, \n",
    "                                    decay= self.beta)\n",
    "        hawkes.set_kernel(0, 0, kernel)\n",
    "        hawkes.set_baseline(0, self.baseline)\n",
    "        hawkes.track_intensity(time_step)\n",
    "        hawkes.simulate()\n",
    "        \n",
    "        return hawkes.timestamps, hawkes.tracked_intensity, hawkes.intensity_tracked_times\n",
    "        \n",
    "    def get_conditional_intensity(self,\n",
    "                                  events: np.ndarray, \n",
    "                                  current_step: float) -> float:\n",
    "        \"\"\"Computes the conditional intensity given a realization of events \"\"\"\n",
    "\n",
    "        return self.baseline + np.sum(self.alpha*self.beta * np.exp(-self.beta * (current_step - events)))            \n",
    "    \n",
    "    \n",
    "    def get_next_arrival_time(self,\n",
    "                                  events: np.ndarray, \n",
    "                                  current_step: float)-> float:\n",
    "        \"\"\"Computes the  expected next arrival time given an event realization and the current step\"\"\"\n",
    "        \n",
    "        predicted_intensity = self.get_conditional_intensity(events, current_step)\n",
    "        \n",
    "        return current_step + np.random.exponential(1 / predicted_intensity)\n",
    "    "
   ]
  },
  {
   "cell_type": "code",
   "execution_count": 12,
   "id": "b58c2f73-68d1-4a82-ad54-19adee8a5e43",
   "metadata": {},
   "outputs": [],
   "source": [
    "hawkes_model = UnivariateHawkesModel(baseline        = true_baseline, \n",
    "                                        alpha           = true_alpha,\n",
    "                                        beta            = true_beta,\n",
    "                                        max_iter        = 10000,\n",
    "                                        tol             = 1e-10,\n",
    "                                        min_beta        = 0,\n",
    "                                        max_beta        = 30,\n",
    "                                        verbose         = False,\n",
    "                                        seed            = SEED)"
   ]
  },
  {
   "cell_type": "code",
   "execution_count": 13,
   "id": "9dcc745f-257b-4a7c-b31c-03582b5d4886",
   "metadata": {},
   "outputs": [
    {
     "name": "stdout",
     "output_type": "stream",
     "text": [
      "Step equals 0... at 0\n"
     ]
    }
   ],
   "source": [
    "simulated_info = hawkes_model.simulate(total_run_time,time_step)\n",
    "simulated_events, simulated_tracked_intensity, simulated_intensity_tracked_times = simulated_info\n",
    "\n",
    "hawkes_model.fit(simulated_events)"
   ]
  },
  {
   "cell_type": "code",
   "execution_count": 14,
   "id": "5781049e-22e1-451f-b6a0-d8dcda5c9e2b",
   "metadata": {},
   "outputs": [
    {
     "data": {
      "text/plain": [
       "(1, 0.5, 3)"
      ]
     },
     "execution_count": 14,
     "metadata": {},
     "output_type": "execute_result"
    }
   ],
   "source": [
    "true_baseline, true_alpha, true_beta"
   ]
  },
  {
   "cell_type": "code",
   "execution_count": 15,
   "id": "a351e225-f989-4e9f-8742-fe251e25c51f",
   "metadata": {},
   "outputs": [
    {
     "data": {
      "text/plain": [
       "(1.0766456880520174, 0.46659430920350237, 3.3333333333333335)"
      ]
     },
     "execution_count": 15,
     "metadata": {},
     "output_type": "execute_result"
    }
   ],
   "source": [
    "hawkes_model.baseline, hawkes_model.alpha, hawkes_model.beta"
   ]
  },
  {
   "cell_type": "code",
   "execution_count": 16,
   "id": "d3b60a3c-8767-4add-b48f-1beaec06560f",
   "metadata": {},
   "outputs": [
    {
     "data": {
      "text/plain": [
       "100.10642847814678"
      ]
     },
     "execution_count": 16,
     "metadata": {},
     "output_type": "execute_result"
    }
   ],
   "source": [
    "hawkes_model.get_next_arrival_time(events=simulated_events[0], \n",
    "                                   current_step=simulated_events[0][-1])"
   ]
  },
  {
   "cell_type": "code",
   "execution_count": null,
   "id": "e337415b-f1aa-4959-98fd-92fd6c0fe684",
   "metadata": {},
   "outputs": [],
   "source": []
  }
 ],
 "metadata": {
  "kernelspec": {
   "display_name": "tick",
   "language": "python",
   "name": "tick"
  },
  "language_info": {
   "codemirror_mode": {
    "name": "ipython",
    "version": 3
   },
   "file_extension": ".py",
   "mimetype": "text/x-python",
   "name": "python",
   "nbconvert_exporter": "python",
   "pygments_lexer": "ipython3",
   "version": "3.9.16"
  }
 },
 "nbformat": 4,
 "nbformat_minor": 5
}
